{
 "cells": [
  {
   "cell_type": "markdown",
   "id": "e14cc289",
   "metadata": {},
   "source": [
    "# Python stats for CS5063"
   ]
  },
  {
   "cell_type": "code",
   "execution_count": 13,
   "id": "27ece42c",
   "metadata": {},
   "outputs": [],
   "source": [
    "# set up pandas and scipy stats\n",
    "import pandas as pd\n",
    "from scipy import stats\n",
    "\n",
    "# plot inline\n",
    "%matplotlib inline"
   ]
  },
  {
   "cell_type": "markdown",
   "id": "46d771f2",
   "metadata": {},
   "source": [
    "## Part 1: T-test using fake Amazon data (based on lecture)\n",
    "T-Test checks if there is a statistically sigificant difference between the average (mean) values of two data sets\n",
    "Example: Do users of Amazon's NEW recommendation system buy more books (on average) that users of the OLD system?"
   ]
  },
  {
   "cell_type": "code",
   "execution_count": 3,
   "id": "4a970eb1",
   "metadata": {},
   "outputs": [],
   "source": [
    "# read fake amazon data (large variation scenario)\n",
    "# Change filename for your computer!\n",
    "amazon = pd.read_csv(\"simpledatasets/fakeAmazonDataLargeVar.csv\")"
   ]
  },
  {
   "cell_type": "markdown",
   "id": "36e9d088",
   "metadata": {},
   "source": [
    "### Display and plot data"
   ]
  },
  {
   "cell_type": "code",
   "execution_count": 4,
   "id": "6794b92d",
   "metadata": {},
   "outputs": [
    {
     "name": "stdout",
     "output_type": "stream",
     "text": [
      "      OLD     NEW\n",
      "0   22.48   15.71\n",
      "1   13.25   19.78\n",
      "2   13.71  100.00\n",
      "3   28.00   14.67\n",
      "4   27.82   14.82\n",
      "..    ...     ...\n",
      "95  19.82   27.11\n",
      "96  13.72   10.96\n",
      "97  10.51   23.88\n",
      "98  19.00   14.27\n",
      "99  17.77   11.00\n",
      "\n",
      "[100 rows x 2 columns]\n"
     ]
    }
   ],
   "source": [
    "# print fake amazon data as a table\n",
    "print(amazon)"
   ]
  },
  {
   "cell_type": "code",
   "execution_count": 8,
   "id": "90363d3a",
   "metadata": {},
   "outputs": [
    {
     "data": {
      "text/html": [
       "<div>\n",
       "<style scoped>\n",
       "    .dataframe tbody tr th:only-of-type {\n",
       "        vertical-align: middle;\n",
       "    }\n",
       "\n",
       "    .dataframe tbody tr th {\n",
       "        vertical-align: top;\n",
       "    }\n",
       "\n",
       "    .dataframe thead th {\n",
       "        text-align: right;\n",
       "    }\n",
       "</style>\n",
       "<table border=\"1\" class=\"dataframe\">\n",
       "  <thead>\n",
       "    <tr style=\"text-align: right;\">\n",
       "      <th></th>\n",
       "      <th>OLD</th>\n",
       "      <th>NEW</th>\n",
       "    </tr>\n",
       "  </thead>\n",
       "  <tbody>\n",
       "    <tr>\n",
       "      <th>0</th>\n",
       "      <td>22.48</td>\n",
       "      <td>15.71</td>\n",
       "    </tr>\n",
       "    <tr>\n",
       "      <th>1</th>\n",
       "      <td>13.25</td>\n",
       "      <td>19.78</td>\n",
       "    </tr>\n",
       "    <tr>\n",
       "      <th>2</th>\n",
       "      <td>13.71</td>\n",
       "      <td>100.00</td>\n",
       "    </tr>\n",
       "    <tr>\n",
       "      <th>3</th>\n",
       "      <td>28.00</td>\n",
       "      <td>14.67</td>\n",
       "    </tr>\n",
       "    <tr>\n",
       "      <th>4</th>\n",
       "      <td>27.82</td>\n",
       "      <td>14.82</td>\n",
       "    </tr>\n",
       "  </tbody>\n",
       "</table>\n",
       "</div>"
      ],
      "text/plain": [
       "     OLD     NEW\n",
       "0  22.48   15.71\n",
       "1  13.25   19.78\n",
       "2  13.71  100.00\n",
       "3  28.00   14.67\n",
       "4  27.82   14.82"
      ]
     },
     "execution_count": 8,
     "metadata": {},
     "output_type": "execute_result"
    }
   ],
   "source": [
    "# look just at first 5 rows\n",
    "amazon.head()"
   ]
  },
  {
   "cell_type": "code",
   "execution_count": 9,
   "id": "ffd05610",
   "metadata": {},
   "outputs": [
    {
     "data": {
      "text/plain": [
       "0     22.48\n",
       "1     13.25\n",
       "2     13.71\n",
       "3     28.00\n",
       "4     27.82\n",
       "      ...  \n",
       "95    19.82\n",
       "96    13.72\n",
       "97    10.51\n",
       "98    19.00\n",
       "99    17.77\n",
       "Name: OLD, Length: 100, dtype: float64"
      ]
     },
     "execution_count": 9,
     "metadata": {},
     "output_type": "execute_result"
    }
   ],
   "source": [
    "# look just at OLD\n",
    "amazon['OLD']"
   ]
  },
  {
   "cell_type": "code",
   "execution_count": 14,
   "id": "b146394e",
   "metadata": {},
   "outputs": [
    {
     "data": {
      "text/plain": [
       "<AxesSubplot:>"
      ]
     },
     "execution_count": 14,
     "metadata": {},
     "output_type": "execute_result"
    },
    {
     "data": {
      "image/png": "[encoded data removed]",
      "text/plain": [
       "<Figure size 640x480 with 1 Axes>"
      ]
     },
     "metadata": {},
     "output_type": "display_data"
    }
   ],
   "source": [
    "# boxplot the data\n",
    "amazon.boxplot()"
   ]
  },
  {
   "cell_type": "code",
   "execution_count": 15,
   "id": "e9c22617",
   "metadata": {},
   "outputs": [
    {
     "data": {
      "text/plain": [
       "array([[<AxesSubplot:title={'center':'OLD'}>,\n",
       "        <AxesSubplot:title={'center':'NEW'}>]], dtype=object)"
      ]
     },
     "execution_count": 15,
     "metadata": {},
     "output_type": "execute_result"
    },
    {
     "data": {
      "image/png": "[encoded data removed]",
      "text/plain": [
       "<Figure size 640x480 with 2 Axes>"
      ]
     },
     "metadata": {},
     "output_type": "display_data"
    }
   ],
   "source": [
    "#histogram plot of the data\n",
    "amazon.hist()"
   ]
  },
  {
   "cell_type": "markdown",
   "id": "24663cc8",
   "metadata": {},
   "source": [
    "### Simple descriptive statistics"
   ]
  },
  {
   "cell_type": "code",
   "execution_count": 16,
   "id": "b7ce7863",
   "metadata": {},
   "outputs": [
    {
     "data": {
      "text/plain": [
       "OLD    19.0035\n",
       "NEW    20.0042\n",
       "dtype: float64"
      ]
     },
     "execution_count": 16,
     "metadata": {},
     "output_type": "execute_result"
    }
   ],
   "source": [
    "# mean (average) value\n",
    "amazon.mean()"
   ]
  },
  {
   "cell_type": "code",
   "execution_count": 17,
   "id": "b72ec112",
   "metadata": {},
   "outputs": [
    {
     "data": {
      "text/plain": [
       "OLD    18.77\n",
       "NEW    18.48\n",
       "dtype: float64"
      ]
     },
     "execution_count": 17,
     "metadata": {},
     "output_type": "execute_result"
    }
   ],
   "source": [
    "#median (central) value\n",
    "amazon.median()"
   ]
  },
  {
   "cell_type": "markdown",
   "id": "13f7d914",
   "metadata": {},
   "source": [
    "### Do T-tests"
   ]
  },
  {
   "cell_type": "code",
   "execution_count": 18,
   "id": "3e63963d",
   "metadata": {},
   "outputs": [
    {
     "data": {
      "text/plain": [
       "Ttest_indResult(statistic=-0.8646475760614669, pvalue=0.3882785719152384)"
      ]
     },
     "execution_count": 18,
     "metadata": {},
     "output_type": "execute_result"
    }
   ],
   "source": [
    "# t-test comparing OLD to NEW\n",
    "# Is p-value less than 0.05\n",
    "stats.ttest_ind(amazon['OLD'],amazon['NEW']) "
   ]
  },
  {
   "cell_type": "code",
   "execution_count": 19,
   "id": "8637081e",
   "metadata": {},
   "outputs": [
    {
     "data": {
      "text/plain": [
       "Ttest_1sampResult(statistic=0.00568272204976676, pvalue=0.9954773036516025)"
      ]
     },
     "execution_count": 19,
     "metadata": {},
     "output_type": "execute_result"
    }
   ],
   "source": [
    "# 1-value t-test.  Is the mean of OLD (19.0035) signicantly different from 19?\n",
    "stats.ttest_1samp(amazon['OLD'], 19)"
   ]
  },
  {
   "cell_type": "code",
   "execution_count": 20,
   "id": "707ae71c",
   "metadata": {},
   "outputs": [
    {
     "data": {
      "text/plain": [
       "Ttest_relResult(statistic=-0.874899574504673, pvalue=0.3837461652644054)"
      ]
     },
     "execution_count": 20,
     "metadata": {},
     "output_type": "execute_result"
    }
   ],
   "source": [
    "# paired t-test comparing OLD to NEW (not appropriate for this data, but show how it is done)\n",
    "stats.ttest_rel(amazon['OLD'],amazon['NEW'])"
   ]
  },
  {
   "cell_type": "code",
   "execution_count": 21,
   "id": "3ab84189",
   "metadata": {},
   "outputs": [
    {
     "data": {
      "text/plain": [
       "ShapiroResult(statistic=0.9584576487541199, pvalue=0.0031264598947018385)"
      ]
     },
     "execution_count": 21,
     "metadata": {},
     "output_type": "execute_result"
    }
   ],
   "source": [
    "# Shapiro test - does OLD follow normal distribution\n",
    "stats.shapiro(amazon['OLD'])"
   ]
  },
  {
   "cell_type": "code",
   "execution_count": 22,
   "id": "aadd699f",
   "metadata": {},
   "outputs": [
    {
     "data": {
      "text/plain": [
       "MannwhitneyuResult(statistic=4889.5, pvalue=0.788103457128261)"
      ]
     },
     "execution_count": 22,
     "metadata": {},
     "output_type": "execute_result"
    }
   ],
   "source": [
    "# Mann Whitney comparing OLD to NEW\n",
    "# Makes sense to use this when Shapiro p-valye is low (ie, data is not normally distributed)\n",
    "stats.mannwhitneyu(amazon['OLD'],amazon['NEW'])"
   ]
  },
  {
   "cell_type": "markdown",
   "id": "60b00010",
   "metadata": {},
   "source": [
    "### Exercise: repeat above for fakeAmazonModerateVar\n",
    "This is the data set with moderate variatio, should see lower p values"
   ]
  },
  {
   "cell_type": "code",
   "execution_count": 39,
   "id": "98532020",
   "metadata": {},
   "outputs": [
    {
     "data": {
      "text/html": [
       "<div>\n",
       "<style scoped>\n",
       "    .dataframe tbody tr th:only-of-type {\n",
       "        vertical-align: middle;\n",
       "    }\n",
       "\n",
       "    .dataframe tbody tr th {\n",
       "        vertical-align: top;\n",
       "    }\n",
       "\n",
       "    .dataframe thead th {\n",
       "        text-align: right;\n",
       "    }\n",
       "</style>\n",
       "<table border=\"1\" class=\"dataframe\">\n",
       "  <thead>\n",
       "    <tr style=\"text-align: right;\">\n",
       "      <th></th>\n",
       "      <th>OLD</th>\n",
       "      <th>NEW</th>\n",
       "    </tr>\n",
       "  </thead>\n",
       "  <tbody>\n",
       "    <tr>\n",
       "      <th>0</th>\n",
       "      <td>19.62</td>\n",
       "      <td>15.86</td>\n",
       "    </tr>\n",
       "    <tr>\n",
       "      <th>1</th>\n",
       "      <td>16.74</td>\n",
       "      <td>35.79</td>\n",
       "    </tr>\n",
       "    <tr>\n",
       "      <th>2</th>\n",
       "      <td>19.21</td>\n",
       "      <td>18.92</td>\n",
       "    </tr>\n",
       "    <tr>\n",
       "      <th>3</th>\n",
       "      <td>16.84</td>\n",
       "      <td>23.95</td>\n",
       "    </tr>\n",
       "    <tr>\n",
       "      <th>4</th>\n",
       "      <td>13.83</td>\n",
       "      <td>24.59</td>\n",
       "    </tr>\n",
       "  </tbody>\n",
       "</table>\n",
       "</div>"
      ],
      "text/plain": [
       "     OLD    NEW\n",
       "0  19.62  15.86\n",
       "1  16.74  35.79\n",
       "2  19.21  18.92\n",
       "3  16.84  23.95\n",
       "4  13.83  24.59"
      ]
     },
     "execution_count": 39,
     "metadata": {},
     "output_type": "execute_result"
    }
   ],
   "source": [
    "famazonMod = pd.read_csv(\"simpledatasets/fakeAmazonDataModerateVar.csv\")\n",
    "famazonMod.head()"
   ]
  },
  {
   "cell_type": "code",
   "execution_count": 40,
   "id": "b146394e",
   "metadata": {},
   "outputs": [
    {
     "data": {
      "text/plain": [
       "<AxesSubplot:>"
      ]
     },
     "execution_count": 40,
     "metadata": {},
     "output_type": "execute_result"
    },
    {
     "data": {
      "image/png": "[encoded data removed]",
      "text/plain": [
       "<Figure size 640x480 with 1 Axes>"
      ]
     },
     "metadata": {},
     "output_type": "display_data"
    }
   ],
   "source": [
    "# boxplot the data\n",
    "famazonMod.boxplot()"
   ]
  },
  {
   "cell_type": "code",
   "execution_count": 41,
   "id": "e9c22617",
   "metadata": {},
   "outputs": [
    {
     "data": {
      "text/plain": [
       "array([[<AxesSubplot:title={'center':'OLD'}>,\n",
       "        <AxesSubplot:title={'center':'NEW'}>]], dtype=object)"
      ]
     },
     "execution_count": 41,
     "metadata": {},
     "output_type": "execute_result"
    },
    {
     "data": {
      "image/png": "[encoded data removed]",
      "text/plain": [
       "<Figure size 640x480 with 2 Axes>"
      ]
     },
     "metadata": {},
     "output_type": "display_data"
    }
   ],
   "source": [
    "#histogram plot of the data\n",
    "famazonMod.hist()"
   ]
  },
  {
   "cell_type": "markdown",
   "id": "24663cc8",
   "metadata": {},
   "source": [
    "### Simple descriptive statistics"
   ]
  },
  {
   "cell_type": "code",
   "execution_count": 42,
   "id": "b7ce7863",
   "metadata": {},
   "outputs": [
    {
     "data": {
      "text/plain": [
       "OLD    18.9991\n",
       "NEW    19.9957\n",
       "dtype: float64"
      ]
     },
     "execution_count": 42,
     "metadata": {},
     "output_type": "execute_result"
    }
   ],
   "source": [
    "# mean (average) value\n",
    "famazonMod.mean()"
   ]
  },
  {
   "cell_type": "code",
   "execution_count": 43,
   "id": "b72ec112",
   "metadata": {},
   "outputs": [
    {
     "data": {
      "text/plain": [
       "OLD    19.085\n",
       "NEW    20.310\n",
       "dtype: float64"
      ]
     },
     "execution_count": 43,
     "metadata": {},
     "output_type": "execute_result"
    }
   ],
   "source": [
    "#median (central) value\n",
    "famazonMod.median()"
   ]
  },
  {
   "cell_type": "markdown",
   "id": "13f7d914",
   "metadata": {},
   "source": [
    "### Do T-tests"
   ]
  },
  {
   "cell_type": "code",
   "execution_count": 49,
   "id": "3e63963d",
   "metadata": {},
   "outputs": [
    {
     "data": {
      "text/plain": [
       "Ttest_indResult(statistic=-2.3099741707729646, pvalue=0.021920349632744505)"
      ]
     },
     "execution_count": 49,
     "metadata": {},
     "output_type": "execute_result"
    }
   ],
   "source": [
    "# t-test comparing OLD to NEW\n",
    "# Is p-value less than 0.05\n",
    "stats.ttest_ind(famazonMod['OLD'],famazonMod['NEW'])"
   ]
  },
  {
   "cell_type": "code",
   "execution_count": 50,
   "id": "8637081e",
   "metadata": {},
   "outputs": [
    {
     "data": {
      "text/plain": [
       "Ttest_1sampResult(statistic=-0.004286803239046196, pvalue=0.9965882627006943)"
      ]
     },
     "execution_count": 50,
     "metadata": {},
     "output_type": "execute_result"
    }
   ],
   "source": [
    "# 1-value t-test.  Is the mean of OLD (19.0035) signicantly different from 19?\n",
    "stats.ttest_1samp(famazonMod['OLD'], 19)"
   ]
  },
  {
   "cell_type": "code",
   "execution_count": 51,
   "id": "707ae71c",
   "metadata": {},
   "outputs": [
    {
     "data": {
      "text/plain": [
       "Ttest_relResult(statistic=-2.17509376441695, pvalue=0.03200413349488799)"
      ]
     },
     "execution_count": 51,
     "metadata": {},
     "output_type": "execute_result"
    }
   ],
   "source": [
    "# paired t-test comparing OLD to NEW (not appropriate for this data, but show how it is done)\n",
    "stats.ttest_rel(famazonMod['OLD'],famazonMod['NEW'])"
   ]
  },
  {
   "cell_type": "code",
   "execution_count": 52,
   "id": "3ab84189",
   "metadata": {},
   "outputs": [
    {
     "data": {
      "text/plain": [
       "ShapiroResult(statistic=0.9916341304779053, pvalue=0.7941339612007141)"
      ]
     },
     "execution_count": 52,
     "metadata": {},
     "output_type": "execute_result"
    }
   ],
   "source": [
    "# Shapiro test - does OLD follow normal distribution\n",
    "stats.shapiro(famazonMod['OLD'])"
   ]
  },
  {
   "cell_type": "code",
   "execution_count": 53,
   "id": "aadd699f",
   "metadata": {},
   "outputs": [
    {
     "data": {
      "text/plain": [
       "MannwhitneyuResult(statistic=3995.5, pvalue=0.014159949379532879)"
      ]
     },
     "execution_count": 53,
     "metadata": {},
     "output_type": "execute_result"
    }
   ],
   "source": [
    "# Mann Whitney comparing OLD to NEW\n",
    "# Makes sense to use this when Shapiro p-valye is low (ie, data is not normally distributed)\n",
    "stats.mannwhitneyu(famazonMod['OLD'],famazonMod['NEW'])"
   ]
  },
  {
   "cell_type": "markdown",
   "id": "48e35b0d",
   "metadata": {},
   "source": [
    "## Chi-square test\n",
    "Is there a statistically signicant difference in two sets of categorical values\n",
    "Example: Are MSc students more likely to be non-UK than undergraduate students?  (Data from several years ago)"
   ]
  },
  {
   "cell_type": "code",
   "execution_count": 23,
   "id": "c79bddee",
   "metadata": {},
   "outputs": [
    {
     "data": {
      "text/html": [
       "<div>\n",
       "<style scoped>\n",
       "    .dataframe tbody tr th:only-of-type {\n",
       "        vertical-align: middle;\n",
       "    }\n",
       "\n",
       "    .dataframe tbody tr th {\n",
       "        vertical-align: top;\n",
       "    }\n",
       "\n",
       "    .dataframe thead th {\n",
       "        text-align: right;\n",
       "    }\n",
       "</style>\n",
       "<table border=\"1\" class=\"dataframe\">\n",
       "  <thead>\n",
       "    <tr style=\"text-align: right;\">\n",
       "      <th></th>\n",
       "      <th>Degree</th>\n",
       "      <th>UK</th>\n",
       "      <th>non-UK</th>\n",
       "    </tr>\n",
       "  </thead>\n",
       "  <tbody>\n",
       "    <tr>\n",
       "      <th>0</th>\n",
       "      <td>MSc</td>\n",
       "      <td>9</td>\n",
       "      <td>25</td>\n",
       "    </tr>\n",
       "    <tr>\n",
       "      <th>1</th>\n",
       "      <td>UG</td>\n",
       "      <td>115</td>\n",
       "      <td>56</td>\n",
       "    </tr>\n",
       "  </tbody>\n",
       "</table>\n",
       "</div>"
      ],
      "text/plain": [
       "  Degree   UK  non-UK\n",
       "0    MSc    9      25\n",
       "1     UG  115      56"
      ]
     },
     "execution_count": 23,
     "metadata": {},
     "output_type": "execute_result"
    }
   ],
   "source": [
    "# read nationality data\n",
    "nationality = pd.read_csv(\"simpledatasets/nationality.csv\")\n",
    "nationality"
   ]
  },
  {
   "cell_type": "code",
   "execution_count": 54,
   "id": "1585c296",
   "metadata": {},
   "outputs": [
    {
     "data": {
      "text/plain": [
       "(18.065487966637885,\n",
       " 2.1343529350002643e-05,\n",
       " 1,\n",
       " array([[ 20.56585366,  13.43414634],\n",
       "        [103.43414634,  67.56585366]]))"
      ]
     },
     "execution_count": 54,
     "metadata": {},
     "output_type": "execute_result"
    }
   ],
   "source": [
    "# chi-square test (p-value is second number)\n",
    "nationality2 = nationality.drop(columns=['Degree'])\n",
    "# nationality2\n",
    "stats.chi2_contingency(nationality2)"
   ]
  },
  {
   "cell_type": "code",
   "execution_count": 25,
   "id": "ce8c66d9",
   "metadata": {},
   "outputs": [
    {
     "data": {
      "text/plain": [
       "(0.17530434782608695, 1.4150392340008172e-05)"
      ]
     },
     "execution_count": 25,
     "metadata": {},
     "output_type": "execute_result"
    }
   ],
   "source": [
    "# fisher test (p-value is second number)\n",
    "# use this for 2x2 test if size of sets is small\n",
    "stats.fisher_exact(nationality2)"
   ]
  },
  {
   "cell_type": "markdown",
   "id": "762c1cb9",
   "metadata": {},
   "source": [
    "### Exercise: Was there a significant difference in Remain/Leave (Brexit) votes in Scotland and England?\n",
    "The data is available at below Wikipedia site.  You should create a CSV with the relevant data and do a chi-square test, as above\n",
    "\n",
    "https://en.wikipedia.org/wiki/Results_of_the_2016_United_Kingdom_European_Union_membership_referendum"
   ]
  },
  {
   "cell_type": "code",
   "execution_count": 36,
   "id": "940fc5db",
   "metadata": {},
   "outputs": [
    {
     "data": {
      "text/html": [
       "<div>\n",
       "<style scoped>\n",
       "    .dataframe tbody tr th:only-of-type {\n",
       "        vertical-align: middle;\n",
       "    }\n",
       "\n",
       "    .dataframe tbody tr th {\n",
       "        vertical-align: top;\n",
       "    }\n",
       "\n",
       "    .dataframe thead th {\n",
       "        text-align: right;\n",
       "    }\n",
       "</style>\n",
       "<table border=\"1\" class=\"dataframe\">\n",
       "  <thead>\n",
       "    <tr style=\"text-align: right;\">\n",
       "      <th></th>\n",
       "      <th>Region</th>\n",
       "      <th>Remain Votes</th>\n",
       "      <th>Leave Votes</th>\n",
       "    </tr>\n",
       "  </thead>\n",
       "  <tbody>\n",
       "    <tr>\n",
       "      <th>0</th>\n",
       "      <td>Scotland</td>\n",
       "      <td>1661191</td>\n",
       "      <td>1018322</td>\n",
       "    </tr>\n",
       "    <tr>\n",
       "      <th>1</th>\n",
       "      <td>England</td>\n",
       "      <td>13247674</td>\n",
       "      <td>15187583</td>\n",
       "    </tr>\n",
       "  </tbody>\n",
       "</table>\n",
       "</div>"
      ],
      "text/plain": [
       "     Region   Remain Votes   Leave Votes\n",
       "0  Scotland        1661191       1018322\n",
       "1   England       13247674      15187583"
      ]
     },
     "execution_count": 36,
     "metadata": {},
     "output_type": "execute_result"
    }
   ],
   "source": [
    "votes_df = pd.read_csv(\"simpledatasets/votes.csv\")\n",
    "votes_df"
   ]
  },
  {
   "cell_type": "code",
   "execution_count": 37,
   "id": "30e06254",
   "metadata": {},
   "outputs": [
    {
     "data": {
      "text/plain": [
       "(232917.728557373,\n",
       " 0.0,\n",
       " 1,\n",
       " array([[ 1283907.85413953,  1395605.14586047],\n",
       "        [13624957.14586047, 14810299.85413953]]))"
      ]
     },
     "execution_count": 37,
     "metadata": {},
     "output_type": "execute_result"
    }
   ],
   "source": [
    "votes_df2 = votes_df.drop(columns=['Region'])\n",
    "# votes_df2\n",
    "stats.chi2_contingency(votes_df2)"
   ]
  },
  {
   "cell_type": "markdown",
   "id": "10bdc025",
   "metadata": {},
   "source": [
    "### Binomial test\n",
    "Is the distribution of categories in a set statistically different from 50-50?\n",
    "Example: If we flip a coin 20 times and get 7 heads, does this prove the coin is biased?"
   ]
  },
  {
   "cell_type": "code",
   "execution_count": 26,
   "id": "0b6db8c7",
   "metadata": {},
   "outputs": [
    {
     "data": {
      "text/plain": [
       "BinomTestResult(k=7, n=20, alternative='two-sided', proportion_estimate=0.35, pvalue=0.26317596435546875)"
      ]
     },
     "execution_count": 26,
     "metadata": {},
     "output_type": "execute_result"
    }
   ],
   "source": [
    "# binomial test - If we flip coin 20 times and get 7 heads, does this mean the coin is probably biased?\n",
    "stats.binomtest(7,20)"
   ]
  },
  {
   "cell_type": "markdown",
   "id": "cb869868",
   "metadata": {},
   "source": [
    "### Exercise: Which coin-flip results suggest a coin is biased?\n",
    "If we flip a coin 20 times and get 6 heads, is this statistically significant evidence that the coin is biased?  What if we got 5 heads? 4 head?  etc.  What if we get 20 heads?"
   ]
  },
  {
   "cell_type": "code",
   "execution_count": 56,
   "id": "ee517799",
   "metadata": {},
   "outputs": [
    {
     "name": "stdout",
     "output_type": "stream",
     "text": [
      "BinomTestResult(k=6, n=20, alternative='two-sided', proportion_estimate=0.3, pvalue=0.11531829833984375)\n",
      "BinomTestResult(k=5, n=20, alternative='two-sided', proportion_estimate=0.25, pvalue=0.04138946533203125)\n",
      "BinomTestResult(k=4, n=20, alternative='two-sided', proportion_estimate=0.2, pvalue=0.01181793212890625)\n",
      "BinomTestResult(k=20, n=20, alternative='two-sided', proportion_estimate=1.0, pvalue=1.9073486328125e-06)\n"
     ]
    }
   ],
   "source": [
    "print(stats.binomtest(6,20)) # biased\n",
    "print(stats.binomtest(5,20))\n",
    "print(stats.binomtest(4,20)) # biased\n",
    "print(stats.binomtest(20,20)) # biased coin"
   ]
  },
  {
   "cell_type": "markdown",
   "id": "3d2d0ec7",
   "metadata": {},
   "source": [
    "## Correlation\n",
    "Are the values in one set of numbers correlated with another?  Ie, do they change in similar ways?\n",
    "Example: Is global average temperature correlated with atmospheric CO2?"
   ]
  },
  {
   "cell_type": "code",
   "execution_count": 57,
   "id": "b9359947",
   "metadata": {},
   "outputs": [],
   "source": [
    "# read CO2 data\n",
    "# temp is difference from 20th century average\n",
    "co2 = pd.read_csv(\"simpledatasets/co2.csv\")"
   ]
  },
  {
   "cell_type": "code",
   "execution_count": 59,
   "id": "fb886927",
   "metadata": {},
   "outputs": [
    {
     "data": {
      "text/html": [
       "<div>\n",
       "<style scoped>\n",
       "    .dataframe tbody tr th:only-of-type {\n",
       "        vertical-align: middle;\n",
       "    }\n",
       "\n",
       "    .dataframe tbody tr th {\n",
       "        vertical-align: top;\n",
       "    }\n",
       "\n",
       "    .dataframe thead th {\n",
       "        text-align: right;\n",
       "    }\n",
       "</style>\n",
       "<table border=\"1\" class=\"dataframe\">\n",
       "  <thead>\n",
       "    <tr style=\"text-align: right;\">\n",
       "      <th></th>\n",
       "      <th>Year</th>\n",
       "      <th>Temp</th>\n",
       "      <th>CO2</th>\n",
       "    </tr>\n",
       "  </thead>\n",
       "  <tbody>\n",
       "    <tr>\n",
       "      <th>0</th>\n",
       "      <td>1959</td>\n",
       "      <td>0.0596</td>\n",
       "      <td>315.97</td>\n",
       "    </tr>\n",
       "    <tr>\n",
       "      <th>1</th>\n",
       "      <td>1960</td>\n",
       "      <td>0.0204</td>\n",
       "      <td>316.91</td>\n",
       "    </tr>\n",
       "    <tr>\n",
       "      <th>2</th>\n",
       "      <td>1961</td>\n",
       "      <td>0.0775</td>\n",
       "      <td>317.64</td>\n",
       "    </tr>\n",
       "    <tr>\n",
       "      <th>3</th>\n",
       "      <td>1962</td>\n",
       "      <td>0.0888</td>\n",
       "      <td>318.45</td>\n",
       "    </tr>\n",
       "    <tr>\n",
       "      <th>4</th>\n",
       "      <td>1963</td>\n",
       "      <td>0.1068</td>\n",
       "      <td>318.99</td>\n",
       "    </tr>\n",
       "  </tbody>\n",
       "</table>\n",
       "</div>"
      ],
      "text/plain": [
       "   Year    Temp     CO2\n",
       "0  1959  0.0596  315.97\n",
       "1  1960  0.0204  316.91\n",
       "2  1961  0.0775  317.64\n",
       "3  1962  0.0888  318.45\n",
       "4  1963  0.1068  318.99"
      ]
     },
     "execution_count": 59,
     "metadata": {},
     "output_type": "execute_result"
    }
   ],
   "source": [
    "co2.head()"
   ]
  },
  {
   "cell_type": "code",
   "execution_count": 60,
   "id": "c1b2d6a7",
   "metadata": {},
   "outputs": [
    {
     "data": {
      "text/plain": [
       "<AxesSubplot:>"
      ]
     },
     "execution_count": 60,
     "metadata": {},
     "output_type": "execute_result"
    },
    {
     "data": {
      "image/png": "[encoded data removed]",
      "text/plain": [
       "<Figure size 640x480 with 1 Axes>"
      ]
     },
     "metadata": {},
     "output_type": "display_data"
    }
   ],
   "source": [
    "# plot CO2\n",
    "co2['CO2'].plot()"
   ]
  },
  {
   "cell_type": "code",
   "execution_count": 61,
   "id": "920bfc67",
   "metadata": {},
   "outputs": [
    {
     "data": {
      "text/plain": [
       "<AxesSubplot:>"
      ]
     },
     "execution_count": 61,
     "metadata": {},
     "output_type": "execute_result"
    },
    {
     "data": {
      "image/png": "[encoded data removed]",
      "text/plain": [
       "<Figure size 640x480 with 1 Axes>"
      ]
     },
     "metadata": {},
     "output_type": "display_data"
    }
   ],
   "source": [
    "# plot temperature\n",
    "co2['Temp'].plot()"
   ]
  },
  {
   "cell_type": "code",
   "execution_count": 62,
   "id": "1073a3d1",
   "metadata": {},
   "outputs": [
    {
     "data": {
      "text/plain": [
       "PearsonRResult(statistic=0.9473149530016225, pvalue=2.2909778887844224e-29)"
      ]
     },
     "execution_count": 62,
     "metadata": {},
     "output_type": "execute_result"
    }
   ],
   "source": [
    "# are temperatires correlated with CO2?\n",
    "# first number is corr coef (1 means perfect corr), second number is p value\n",
    "stats.pearsonr(co2['CO2'], co2['Temp'])"
   ]
  },
  {
   "cell_type": "code",
   "execution_count": 63,
   "id": "6d5851e4",
   "metadata": {},
   "outputs": [
    {
     "data": {
      "text/plain": [
       "SpearmanrResult(correlation=0.9324494755298534, pvalue=1.976046608416543e-26)"
      ]
     },
     "execution_count": 63,
     "metadata": {},
     "output_type": "execute_result"
    }
   ],
   "source": [
    "# same with Spearman correlation\n",
    "# are temperatires correlated with CO2?\n",
    "# first number is corr coef (1 means perfect corr), second number is p value\n",
    "stats.spearmanr(co2['CO2'], co2['Temp'])"
   ]
  },
  {
   "cell_type": "markdown",
   "id": "6a871a6f",
   "metadata": {},
   "source": [
    "### Exercise: Are rising sea levels correlated with increasing atmospheric CO2?\n",
    "You can get seal level data from https://datahub.io/core/sea-level-rise (I suggest you use EPA)\n",
    "You will need to merge this data with the data in co2.csv"
   ]
  },
  {
   "cell_type": "code",
   "execution_count": 64,
   "id": "01b0c04f",
   "metadata": {},
   "outputs": [],
   "source": [
    "epa_df = pd.read_csv(\"simpledatasets/epa-sea-level_csv.csv\")"
   ]
  },
  {
   "cell_type": "code",
   "execution_count": 65,
   "id": "c57eefe5",
   "metadata": {},
   "outputs": [
    {
     "data": {
      "text/html": [
       "<div>\n",
       "<style scoped>\n",
       "    .dataframe tbody tr th:only-of-type {\n",
       "        vertical-align: middle;\n",
       "    }\n",
       "\n",
       "    .dataframe tbody tr th {\n",
       "        vertical-align: top;\n",
       "    }\n",
       "\n",
       "    .dataframe thead th {\n",
       "        text-align: right;\n",
       "    }\n",
       "</style>\n",
       "<table border=\"1\" class=\"dataframe\">\n",
       "  <thead>\n",
       "    <tr style=\"text-align: right;\">\n",
       "      <th></th>\n",
       "      <th>Year</th>\n",
       "      <th>CSIRO Adjusted Sea Level</th>\n",
       "      <th>Lower Error Bound</th>\n",
       "      <th>Upper Error Bound</th>\n",
       "      <th>NOAA Adjusted Sea Level</th>\n",
       "    </tr>\n",
       "  </thead>\n",
       "  <tbody>\n",
       "    <tr>\n",
       "      <th>0</th>\n",
       "      <td>1880-03-15</td>\n",
       "      <td>0.000000</td>\n",
       "      <td>-0.952756</td>\n",
       "      <td>0.952756</td>\n",
       "      <td>NaN</td>\n",
       "    </tr>\n",
       "    <tr>\n",
       "      <th>1</th>\n",
       "      <td>1881-03-15</td>\n",
       "      <td>0.220472</td>\n",
       "      <td>-0.732283</td>\n",
       "      <td>1.173228</td>\n",
       "      <td>NaN</td>\n",
       "    </tr>\n",
       "    <tr>\n",
       "      <th>2</th>\n",
       "      <td>1882-03-15</td>\n",
       "      <td>-0.440945</td>\n",
       "      <td>-1.346457</td>\n",
       "      <td>0.464567</td>\n",
       "      <td>NaN</td>\n",
       "    </tr>\n",
       "    <tr>\n",
       "      <th>3</th>\n",
       "      <td>1883-03-15</td>\n",
       "      <td>-0.232283</td>\n",
       "      <td>-1.129921</td>\n",
       "      <td>0.665354</td>\n",
       "      <td>NaN</td>\n",
       "    </tr>\n",
       "    <tr>\n",
       "      <th>4</th>\n",
       "      <td>1884-03-15</td>\n",
       "      <td>0.590551</td>\n",
       "      <td>-0.283465</td>\n",
       "      <td>1.464567</td>\n",
       "      <td>NaN</td>\n",
       "    </tr>\n",
       "  </tbody>\n",
       "</table>\n",
       "</div>"
      ],
      "text/plain": [
       "         Year  CSIRO Adjusted Sea Level  Lower Error Bound  Upper Error Bound  \\\n",
       "0  1880-03-15                  0.000000          -0.952756           0.952756   \n",
       "1  1881-03-15                  0.220472          -0.732283           1.173228   \n",
       "2  1882-03-15                 -0.440945          -1.346457           0.464567   \n",
       "3  1883-03-15                 -0.232283          -1.129921           0.665354   \n",
       "4  1884-03-15                  0.590551          -0.283465           1.464567   \n",
       "\n",
       "   NOAA Adjusted Sea Level  \n",
       "0                      NaN  \n",
       "1                      NaN  \n",
       "2                      NaN  \n",
       "3                      NaN  \n",
       "4                      NaN  "
      ]
     },
     "execution_count": 65,
     "metadata": {},
     "output_type": "execute_result"
    }
   ],
   "source": [
    "epa_df.head()"
   ]
  },
  {
   "cell_type": "code",
   "execution_count": 71,
   "id": "a59afe92",
   "metadata": {},
   "outputs": [
    {
     "data": {
      "text/html": [
       "<div>\n",
       "<style scoped>\n",
       "    .dataframe tbody tr th:only-of-type {\n",
       "        vertical-align: middle;\n",
       "    }\n",
       "\n",
       "    .dataframe tbody tr th {\n",
       "        vertical-align: top;\n",
       "    }\n",
       "\n",
       "    .dataframe thead th {\n",
       "        text-align: right;\n",
       "    }\n",
       "</style>\n",
       "<table border=\"1\" class=\"dataframe\">\n",
       "  <thead>\n",
       "    <tr style=\"text-align: right;\">\n",
       "      <th></th>\n",
       "      <th>Year</th>\n",
       "      <th>Temp</th>\n",
       "      <th>CO2</th>\n",
       "      <th>CSIRO Adjusted Sea Level</th>\n",
       "      <th>Lower Error Bound</th>\n",
       "      <th>Upper Error Bound</th>\n",
       "      <th>NOAA Adjusted Sea Level</th>\n",
       "    </tr>\n",
       "  </thead>\n",
       "  <tbody>\n",
       "    <tr>\n",
       "      <th>0</th>\n",
       "      <td>1959</td>\n",
       "      <td>0.0596</td>\n",
       "      <td>315.97</td>\n",
       "      <td>NaN</td>\n",
       "      <td>NaN</td>\n",
       "      <td>NaN</td>\n",
       "      <td>NaN</td>\n",
       "    </tr>\n",
       "    <tr>\n",
       "      <th>1</th>\n",
       "      <td>1960</td>\n",
       "      <td>0.0204</td>\n",
       "      <td>316.91</td>\n",
       "      <td>NaN</td>\n",
       "      <td>NaN</td>\n",
       "      <td>NaN</td>\n",
       "      <td>NaN</td>\n",
       "    </tr>\n",
       "    <tr>\n",
       "      <th>2</th>\n",
       "      <td>1961</td>\n",
       "      <td>0.0775</td>\n",
       "      <td>317.64</td>\n",
       "      <td>NaN</td>\n",
       "      <td>NaN</td>\n",
       "      <td>NaN</td>\n",
       "      <td>NaN</td>\n",
       "    </tr>\n",
       "    <tr>\n",
       "      <th>3</th>\n",
       "      <td>1962</td>\n",
       "      <td>0.0888</td>\n",
       "      <td>318.45</td>\n",
       "      <td>NaN</td>\n",
       "      <td>NaN</td>\n",
       "      <td>NaN</td>\n",
       "      <td>NaN</td>\n",
       "    </tr>\n",
       "    <tr>\n",
       "      <th>4</th>\n",
       "      <td>1963</td>\n",
       "      <td>0.1068</td>\n",
       "      <td>318.99</td>\n",
       "      <td>NaN</td>\n",
       "      <td>NaN</td>\n",
       "      <td>NaN</td>\n",
       "      <td>NaN</td>\n",
       "    </tr>\n",
       "    <tr>\n",
       "      <th>...</th>\n",
       "      <td>...</td>\n",
       "      <td>...</td>\n",
       "      <td>...</td>\n",
       "      <td>...</td>\n",
       "      <td>...</td>\n",
       "      <td>...</td>\n",
       "      <td>...</td>\n",
       "    </tr>\n",
       "    <tr>\n",
       "      <th>130</th>\n",
       "      <td>2010-03-15</td>\n",
       "      <td>NaN</td>\n",
       "      <td>NaN</td>\n",
       "      <td>8.901575</td>\n",
       "      <td>8.618110</td>\n",
       "      <td>9.185039</td>\n",
       "      <td>8.122973</td>\n",
       "    </tr>\n",
       "    <tr>\n",
       "      <th>131</th>\n",
       "      <td>2011-03-15</td>\n",
       "      <td>NaN</td>\n",
       "      <td>NaN</td>\n",
       "      <td>8.964567</td>\n",
       "      <td>8.661417</td>\n",
       "      <td>9.267717</td>\n",
       "      <td>8.053065</td>\n",
       "    </tr>\n",
       "    <tr>\n",
       "      <th>132</th>\n",
       "      <td>2012-03-15</td>\n",
       "      <td>NaN</td>\n",
       "      <td>NaN</td>\n",
       "      <td>9.326772</td>\n",
       "      <td>8.992126</td>\n",
       "      <td>9.661417</td>\n",
       "      <td>8.457058</td>\n",
       "    </tr>\n",
       "    <tr>\n",
       "      <th>133</th>\n",
       "      <td>2013-03-15</td>\n",
       "      <td>NaN</td>\n",
       "      <td>NaN</td>\n",
       "      <td>8.980315</td>\n",
       "      <td>8.622047</td>\n",
       "      <td>9.338583</td>\n",
       "      <td>8.546648</td>\n",
       "    </tr>\n",
       "    <tr>\n",
       "      <th>134</th>\n",
       "      <td>2014-03-15</td>\n",
       "      <td>NaN</td>\n",
       "      <td>NaN</td>\n",
       "      <td>NaN</td>\n",
       "      <td>NaN</td>\n",
       "      <td>NaN</td>\n",
       "      <td>8.663700</td>\n",
       "    </tr>\n",
       "  </tbody>\n",
       "</table>\n",
       "<p>193 rows × 7 columns</p>\n",
       "</div>"
      ],
      "text/plain": [
       "           Year    Temp     CO2  CSIRO Adjusted Sea Level  Lower Error Bound  \\\n",
       "0          1959  0.0596  315.97                       NaN                NaN   \n",
       "1          1960  0.0204  316.91                       NaN                NaN   \n",
       "2          1961  0.0775  317.64                       NaN                NaN   \n",
       "3          1962  0.0888  318.45                       NaN                NaN   \n",
       "4          1963  0.1068  318.99                       NaN                NaN   \n",
       "..          ...     ...     ...                       ...                ...   \n",
       "130  2010-03-15     NaN     NaN                  8.901575           8.618110   \n",
       "131  2011-03-15     NaN     NaN                  8.964567           8.661417   \n",
       "132  2012-03-15     NaN     NaN                  9.326772           8.992126   \n",
       "133  2013-03-15     NaN     NaN                  8.980315           8.622047   \n",
       "134  2014-03-15     NaN     NaN                       NaN                NaN   \n",
       "\n",
       "     Upper Error Bound  NOAA Adjusted Sea Level  \n",
       "0                  NaN                      NaN  \n",
       "1                  NaN                      NaN  \n",
       "2                  NaN                      NaN  \n",
       "3                  NaN                      NaN  \n",
       "4                  NaN                      NaN  \n",
       "..                 ...                      ...  \n",
       "130           9.185039                 8.122973  \n",
       "131           9.267717                 8.053065  \n",
       "132           9.661417                 8.457058  \n",
       "133           9.338583                 8.546648  \n",
       "134                NaN                 8.663700  \n",
       "\n",
       "[193 rows x 7 columns]"
      ]
     },
     "execution_count": 71,
     "metadata": {},
     "output_type": "execute_result"
    }
   ],
   "source": [
    "co2_epa_df = pd.concat([co2, epa_df])\n",
    "co2_epa_df"
   ]
  },
  {
   "cell_type": "code",
   "execution_count": 73,
   "id": "d01ed9fe",
   "metadata": {},
   "outputs": [
    {
     "data": {
      "text/html": [
       "<div>\n",
       "<style scoped>\n",
       "    .dataframe tbody tr th:only-of-type {\n",
       "        vertical-align: middle;\n",
       "    }\n",
       "\n",
       "    .dataframe tbody tr th {\n",
       "        vertical-align: top;\n",
       "    }\n",
       "\n",
       "    .dataframe thead th {\n",
       "        text-align: right;\n",
       "    }\n",
       "</style>\n",
       "<table border=\"1\" class=\"dataframe\">\n",
       "  <thead>\n",
       "    <tr style=\"text-align: right;\">\n",
       "      <th></th>\n",
       "      <th>Temp</th>\n",
       "      <th>CO2</th>\n",
       "      <th>CSIRO Adjusted Sea Level</th>\n",
       "      <th>Lower Error Bound</th>\n",
       "      <th>Upper Error Bound</th>\n",
       "      <th>NOAA Adjusted Sea Level</th>\n",
       "    </tr>\n",
       "  </thead>\n",
       "  <tbody>\n",
       "    <tr>\n",
       "      <th>Temp</th>\n",
       "      <td>1.000000</td>\n",
       "      <td>0.947315</td>\n",
       "      <td>NaN</td>\n",
       "      <td>NaN</td>\n",
       "      <td>NaN</td>\n",
       "      <td>NaN</td>\n",
       "    </tr>\n",
       "    <tr>\n",
       "      <th>CO2</th>\n",
       "      <td>0.947315</td>\n",
       "      <td>1.000000</td>\n",
       "      <td>NaN</td>\n",
       "      <td>NaN</td>\n",
       "      <td>NaN</td>\n",
       "      <td>NaN</td>\n",
       "    </tr>\n",
       "    <tr>\n",
       "      <th>CSIRO Adjusted Sea Level</th>\n",
       "      <td>NaN</td>\n",
       "      <td>NaN</td>\n",
       "      <td>1.000000</td>\n",
       "      <td>0.999132</td>\n",
       "      <td>0.998848</td>\n",
       "      <td>0.976708</td>\n",
       "    </tr>\n",
       "    <tr>\n",
       "      <th>Lower Error Bound</th>\n",
       "      <td>NaN</td>\n",
       "      <td>NaN</td>\n",
       "      <td>0.999132</td>\n",
       "      <td>1.000000</td>\n",
       "      <td>0.995980</td>\n",
       "      <td>0.976050</td>\n",
       "    </tr>\n",
       "    <tr>\n",
       "      <th>Upper Error Bound</th>\n",
       "      <td>NaN</td>\n",
       "      <td>NaN</td>\n",
       "      <td>0.998848</td>\n",
       "      <td>0.995980</td>\n",
       "      <td>1.000000</td>\n",
       "      <td>0.977029</td>\n",
       "    </tr>\n",
       "    <tr>\n",
       "      <th>NOAA Adjusted Sea Level</th>\n",
       "      <td>NaN</td>\n",
       "      <td>NaN</td>\n",
       "      <td>0.976708</td>\n",
       "      <td>0.976050</td>\n",
       "      <td>0.977029</td>\n",
       "      <td>1.000000</td>\n",
       "    </tr>\n",
       "  </tbody>\n",
       "</table>\n",
       "</div>"
      ],
      "text/plain": [
       "                              Temp       CO2  CSIRO Adjusted Sea Level  \\\n",
       "Temp                      1.000000  0.947315                       NaN   \n",
       "CO2                       0.947315  1.000000                       NaN   \n",
       "CSIRO Adjusted Sea Level       NaN       NaN                  1.000000   \n",
       "Lower Error Bound              NaN       NaN                  0.999132   \n",
       "Upper Error Bound              NaN       NaN                  0.998848   \n",
       "NOAA Adjusted Sea Level        NaN       NaN                  0.976708   \n",
       "\n",
       "                          Lower Error Bound  Upper Error Bound  \\\n",
       "Temp                                    NaN                NaN   \n",
       "CO2                                     NaN                NaN   \n",
       "CSIRO Adjusted Sea Level           0.999132           0.998848   \n",
       "Lower Error Bound                  1.000000           0.995980   \n",
       "Upper Error Bound                  0.995980           1.000000   \n",
       "NOAA Adjusted Sea Level            0.976050           0.977029   \n",
       "\n",
       "                          NOAA Adjusted Sea Level  \n",
       "Temp                                          NaN  \n",
       "CO2                                           NaN  \n",
       "CSIRO Adjusted Sea Level                 0.976708  \n",
       "Lower Error Bound                        0.976050  \n",
       "Upper Error Bound                        0.977029  \n",
       "NOAA Adjusted Sea Level                  1.000000  "
      ]
     },
     "execution_count": 73,
     "metadata": {},
     "output_type": "execute_result"
    }
   ],
   "source": [
    "# # pandas merge\n",
    "# co2_epa_df = pd.merge(co2, epa_df, on='Year')\n",
    "# co2_epa_df\n",
    "\n",
    "# pandas correlation\n"
   ]
  },
  {
   "cell_type": "code",
   "execution_count": null,
   "id": "40282475",
   "metadata": {},
   "outputs": [],
   "source": []
  }
 ],
 "metadata": {
  "kernelspec": {
   "display_name": "Python 3.9.13 ('tf_gpu')",
   "language": "python",
   "name": "python3"
  },
  "language_info": {
   "codemirror_mode": {
    "name": "ipython",
    "version": 3
   },
   "file_extension": ".py",
   "mimetype": "text/x-python",
   "name": "python",
   "nbconvert_exporter": "python",
   "pygments_lexer": "ipython3",
   "version": "3.9.13"
  },
  "vscode": {
   "interpreter": {
    "hash": "2dda02249f3a85fed6a16d4776c67b4645c16b9060126c998c6a5f674f8bbcb4"
   }
  }
 },
 "nbformat": 4,
 "nbformat_minor": 5
}
