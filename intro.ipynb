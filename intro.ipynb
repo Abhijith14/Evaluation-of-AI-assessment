{
 "cells": [
  {
   "cell_type": "markdown",
   "metadata": {},
   "source": [
    "# Evaluation of AI"
   ]
  },
  {
   "cell_type": "markdown",
   "metadata": {},
   "source": [
    "## Software engineering of AI systems"
   ]
  },
  {
   "cell_type": "markdown",
   "metadata": {},
   "source": [
    "ADITM:\n",
    "- Analysis\n",
    "- Design\n",
    "- Implementation\n",
    "- Testing\n",
    "- Maintenance"
   ]
  },
  {
   "cell_type": "markdown",
   "metadata": {},
   "source": [
    "<br>\n",
    "Requirements\n",
    "\n",
    "Design\n",
    "\n",
    "Implementation\n",
    "\n",
    "Quality Assurance\n",
    "\n",
    "Lifecycle\n",
    "\n",
    "<hr>"
   ]
  },
  {
   "cell_type": "markdown",
   "metadata": {},
   "source": [
    "Functional Requirements: What the system should do (e.g. \"the system should be able to recognize faces\")\n",
    "\n",
    "Non-functional Requirements: How the system should behave (e.g. \"the system should be able to recognize faces in real-time\")"
   ]
  },
  {
   "cell_type": "markdown",
   "metadata": {},
   "source": [
    "<hr>"
   ]
  },
  {
   "cell_type": "markdown",
   "metadata": {},
   "source": [
    "Design - Three layers:\n",
    "- User Interface\n",
    "- Logic\n",
    "- Data"
   ]
  },
  {
   "cell_type": "markdown",
   "metadata": {},
   "source": [
    "<hr>"
   ]
  },
  {
   "cell_type": "markdown",
   "metadata": {},
   "source": [
    "Implementation\n",
    "\n",
    "Write code with comments, variable names, and documentation"
   ]
  },
  {
   "cell_type": "markdown",
   "metadata": {},
   "source": [
    "<hr>"
   ]
  },
  {
   "cell_type": "markdown",
   "metadata": {},
   "source": [
    "Quality Assurance\n",
    "\n",
    "- Test Cases\n",
    "    - UI\n",
    "    - Logic\n",
    "    - Data\n",
    "    - Timing"
   ]
  },
  {
   "cell_type": "markdown",
   "metadata": {},
   "source": [
    "<hr>"
   ]
  },
  {
   "cell_type": "markdown",
   "metadata": {},
   "source": [
    "Lifecycle\n",
    "\n",
    "- Waterfall\n",
    "    - Requirements\n",
    "    - Design\n",
    "    - Implementation\n",
    "    - Testing\n",
    "    - Maintenance\n",
    "- Agile\n",
    "    - Requirements\n",
    "    - Design\n",
    "    - Implementation\n",
    "    - Testing\n",
    "    - Maintenance\n",
    "<hr>"
   ]
  },
  {
   "cell_type": "markdown",
   "metadata": {},
   "source": [
    "## AI Engineering"
   ]
  },
  {
   "cell_type": "markdown",
   "metadata": {},
   "source": [
    "- Fuzzy Requirements\n",
    "- AI Makes Mistakes\n",
    "- Data Resources\n",
    "    - Designing Data Resources\n",
    "- Test Cases\n"
   ]
  },
  {
   "cell_type": "markdown",
   "metadata": {},
   "source": [
    "<hr>"
   ]
  },
  {
   "cell_type": "markdown",
   "metadata": {},
   "source": [
    "## AI Evaluation"
   ]
  },
  {
   "cell_type": "markdown",
   "metadata": {},
   "source": [
    "Human vs Metrics"
   ]
  },
  {
   "cell_type": "markdown",
   "metadata": {},
   "source": [
    "Requirements Omissions"
   ]
  },
  {
   "cell_type": "markdown",
   "metadata": {},
   "source": [
    "Gold plating : \"The tendency to add features to a system that are not required, but that the developer thinks would be nice to have.\" (Wikipedia)"
   ]
  },
  {
   "cell_type": "markdown",
   "metadata": {},
   "source": [
    "<hr>"
   ]
  },
  {
   "cell_type": "markdown",
   "metadata": {},
   "source": [
    "### Requirements"
   ]
  },
  {
   "cell_type": "markdown",
   "metadata": {},
   "source": [
    "- Functional Requirements : \n",
    "    - UI\n",
    "    - Business Logic\n",
    "    - Data"
   ]
  },
  {
   "cell_type": "markdown",
   "metadata": {},
   "source": [
    "Handle boundary cases (edge cases)"
   ]
  },
  {
   "cell_type": "markdown",
   "metadata": {},
   "source": []
  }
 ],
 "metadata": {
  "language_info": {
   "name": "python"
  },
  "orig_nbformat": 4
 },
 "nbformat": 4,
 "nbformat_minor": 2
}
